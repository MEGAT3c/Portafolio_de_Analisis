{
 "cells": [
  {
   "cell_type": "code",
   "execution_count": 2,
   "metadata": {},
   "outputs": [],
   "source": [
    "import pandas as pd\n",
    "from sklearn.model_selection import train_test_split\n",
    "from sklearn.preprocessing import LabelEncoder\n",
    "from sklearn.linear_model import LogisticRegression"
   ]
  },
  {
   "cell_type": "code",
   "execution_count": 3,
   "metadata": {},
   "outputs": [],
   "source": [
    "# Cargar el conjunto de datos\n",
    "data = pd.read_csv('heart_2020_cleaned.csv')\n",
    "\n",
    "# Convertir la variable objetivo a binaria (1 = Yes, 0 = No)\n",
    "data['HeartDisease'] = data['HeartDisease'].apply(lambda x: 1 if x == 'Yes' else 0)"
   ]
  },
  {
   "cell_type": "code",
   "execution_count": 4,
   "metadata": {},
   "outputs": [],
   "source": [
    "# Convertir variables categóricas a numéricas con Label Encoding\n",
    "categorical_columns = data.select_dtypes(include=['object']).columns\n",
    "label_encoders = {}\n",
    "\n",
    "for col in categorical_columns:\n",
    "    le = LabelEncoder()\n",
    "    data[col] = le.fit_transform(data[col])\n",
    "    label_encoders[col] = le"
   ]
  },
  {
   "cell_type": "code",
   "execution_count": 5,
   "metadata": {},
   "outputs": [],
   "source": [
    "# Separar características (X) y variable objetivo (y)\n",
    "X = data.drop('HeartDisease', axis=1)\n",
    "y = data['HeartDisease']\n",
    "\n",
    "# Dividir los datos en entrenamiento, validación y prueba\n",
    "X_train, X_temp, y_train, y_temp = train_test_split(X, y, test_size=0.3, random_state=42, stratify=y)\n",
    "X_val, X_test, y_val, y_test = train_test_split(X_temp, y_temp, test_size=0.5, random_state=42, stratify=y_temp)"
   ]
  },
  {
   "cell_type": "code",
   "execution_count": 6,
   "metadata": {},
   "outputs": [
    {
     "name": "stdout",
     "output_type": "stream",
     "text": [
      "Mejor parámetro C: {'C': 100}\n",
      "Accuracy en validación: 0.7387062477850278\n",
      "Reporte de clasificación:\n",
      "              precision    recall  f1-score   support\n",
      "\n",
      "           0       0.97      0.74      0.84     43863\n",
      "           1       0.21      0.77      0.33      4106\n",
      "\n",
      "    accuracy                           0.74     47969\n",
      "   macro avg       0.59      0.75      0.59     47969\n",
      "weighted avg       0.91      0.74      0.79     47969\n",
      "\n"
     ]
    }
   ],
   "source": [
    "from sklearn.model_selection import GridSearchCV\n",
    "from sklearn.metrics import accuracy_score, classification_report\n",
    "\n",
    "# Aplicar el reequilibrio de clases utilizando class_weight='balanced'\n",
    "model_balanced = LogisticRegression(max_iter=1000, random_state=42, class_weight='balanced')\n",
    "\n",
    "# Definir los hiperparámetros a ajustar (C para regularización)\n",
    "param_grid = {'C': [0.1, 1, 10, 100, 1000]}\n",
    "\n",
    "# GridSearchCV para encontrar el mejor valor de C\n",
    "grid_search = GridSearchCV(model_balanced, param_grid, cv=5, scoring='f1', verbose=0)\n",
    "grid_search.fit(X_train, y_train)\n",
    "\n",
    "# Mejor modelo encontrado\n",
    "best_model = grid_search.best_estimator_\n",
    "\n",
    "# Evaluar en el conjunto de validación\n",
    "y_val_pred_best = best_model.predict(X_val)\n",
    "accuracy_best = accuracy_score(y_val, y_val_pred_best)\n",
    "classification_report_best = classification_report(y_val, y_val_pred_best)\n",
    "\n",
    "print(f\"Mejor parámetro C: {grid_search.best_params_}\")\n",
    "print(f\"Accuracy en validación: {accuracy_best}\")\n",
    "print(f\"Reporte de clasificación:\\n{classification_report_best}\")\n"
   ]
  },
  {
   "cell_type": "code",
   "execution_count": 7,
   "metadata": {},
   "outputs": [
    {
     "name": "stdout",
     "output_type": "stream",
     "text": [
      "Mejor parámetro C: {'C': 100}\n",
      "Accuracy en validación: 0.7387062477850278\n",
      "Reporte de clasificación:\n",
      "              precision    recall  f1-score   support\n",
      "\n",
      "           0       0.97      0.74      0.84     43863\n",
      "           1       0.21      0.77      0.33      4106\n",
      "\n",
      "    accuracy                           0.74     47969\n",
      "   macro avg       0.59      0.75      0.59     47969\n",
      "weighted avg       0.91      0.74      0.79     47969\n",
      "\n",
      "Puntuaciones de validación cruzada (F1-score): [0.33698662 0.33765935 0.33316242 0.33862799 0.335942  ]\n",
      "Promedio de F1-score en validación cruzada: 0.33647567652478105\n"
     ]
    }
   ],
   "source": [
    "from sklearn.model_selection import GridSearchCV, cross_val_score\n",
    "\n",
    "\n",
    "# Aplicar el reequilibrio de clases utilizando class_weight='balanced'\n",
    "model_balanced = LogisticRegression(max_iter=1000, random_state=42, class_weight='balanced')\n",
    "\n",
    "# Definir los hiperparámetros a ajustar (C para regularización)\n",
    "param_grid = {'C': [0.1, 1, 10, 100, 1000]}\n",
    "\n",
    "# GridSearchCV para encontrar el mejor valor de C con validación cruzada\n",
    "grid_search = GridSearchCV(model_balanced, param_grid, cv=5, scoring='f1', verbose=0)\n",
    "grid_search.fit(X_train, y_train)\n",
    "\n",
    "# Mejor modelo encontrado\n",
    "best_model = grid_search.best_estimator_\n",
    "\n",
    "# Realizar validación cruzada con el mejor modelo\n",
    "cross_val_scores = cross_val_score(best_model, X_train, y_train, cv=5, scoring='f1')\n",
    "\n",
    "# Evaluar el mejor modelo en el conjunto de validación\n",
    "y_val_pred_best = best_model.predict(X_val)\n",
    "accuracy_best = accuracy_score(y_val, y_val_pred_best)\n",
    "classification_report_best = classification_report(y_val, y_val_pred_best)\n",
    "\n",
    "# Resultados\n",
    "print(f\"Mejor parámetro C: {grid_search.best_params_}\")\n",
    "print(f\"Accuracy en validación: {accuracy_best}\")\n",
    "print(f\"Reporte de clasificación:\\n{classification_report_best}\")\n",
    "print(f\"Puntuaciones de validación cruzada (F1-score): {cross_val_scores}\")\n",
    "print(f\"Promedio de F1-score en validación cruzada: {cross_val_scores.mean()}\")\n"
   ]
  }
 ],
 "metadata": {
  "kernelspec": {
   "display_name": "ml_env",
   "language": "python",
   "name": "python3"
  },
  "language_info": {
   "codemirror_mode": {
    "name": "ipython",
    "version": 3
   },
   "file_extension": ".py",
   "mimetype": "text/x-python",
   "name": "python",
   "nbconvert_exporter": "python",
   "pygments_lexer": "ipython3",
   "version": "3.12.3"
  }
 },
 "nbformat": 4,
 "nbformat_minor": 2
}
